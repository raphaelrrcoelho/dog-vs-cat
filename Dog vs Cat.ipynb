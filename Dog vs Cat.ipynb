{
 "cells": [
  {
   "cell_type": "code",
   "execution_count": 1,
   "metadata": {
    "collapsed": false
   },
   "outputs": [
    {
     "name": "stdout",
     "output_type": "stream",
     "text": [
      "Using TensorFlow backend.\n",
      "2017-12-22 18:54:04.832861: I tensorflow/core/platform/cpu_feature_guard.cc:137] Your CPU supports instructions that this TensorFlow binary was not compiled to use: SSE4.1 SSE4.2 AVX AVX2 FMA\n"
     ]
    }
   ],
   "source": [
    "!KERAS_BACKEND=tensorflow python -c \"from keras import backend\""
   ]
  },
  {
   "cell_type": "code",
   "execution_count": 3,
   "metadata": {
    "collapsed": false
   },
   "outputs": [
    {
     "name": "stderr",
     "output_type": "stream",
     "text": [
      "Using TensorFlow backend.\n"
     ]
    }
   ],
   "source": [
    "import os\n",
    "import numpy as np\n",
    "from keras.models import Sequential\n",
    "from keras.layers import Activation, Dropout, Flatten, Dense\n",
    "from keras.preprocessing.image import ImageDataGenerator\n",
    "from keras.layers import Convolution2D, MaxPooling2D, ZeroPadding2D\n",
    "from keras import optimizers"
   ]
  },
  {
   "cell_type": "code",
   "execution_count": 70,
   "metadata": {
    "collapsed": true
   },
   "outputs": [],
   "source": [
    "img_width, img_height = 150, 150\n",
    "\n",
    "train_data_dir = './data/train/'\n",
    "validation_data_dir = './data/validation/'\n",
    "test_data_dir = './data/test/'"
   ]
  },
  {
   "cell_type": "code",
   "execution_count": 107,
   "metadata": {
    "collapsed": false
   },
   "outputs": [
    {
     "name": "stdout",
     "output_type": "stream",
     "text": [
      "Found 2048 images belonging to 2 classes.\n",
      "Found 832 images belonging to 2 classes.\n",
      "Found 4 images belonging to 2 classes.\n"
     ]
    }
   ],
   "source": [
    "# used to rescale the pixel values from [0, 255] to [0, 1] interval\n",
    "datagen = ImageDataGenerator(rescale=1./255)\n",
    "\n",
    "train_generator = datagen.flow_from_directory(\n",
    "                train_data_dir,\n",
    "                target_size=(img_width, img_height),\n",
    "                batch_size=16,\n",
    "                class_mode='binary')\n",
    "\n",
    "validation_generator = datagen.flow_from_directory(\n",
    "                validation_data_dir,\n",
    "                target_size=(img_width, img_height),\n",
    "                batch_size=32,\n",
    "                class_mode='binary')\n",
    "\n",
    "test_generator = datagen.flow_from_directory(\n",
    "                test_data_dir,\n",
    "                target_size=(img_width, img_height),\n",
    "                batch_size=1,\n",
    "                class_mode='binary')"
   ]
  },
  {
   "cell_type": "code",
   "execution_count": 108,
   "metadata": {
    "collapsed": false
   },
   "outputs": [],
   "source": [
    "model = Sequential()\n",
    "\n",
    "model.add(Convolution2D(32, kernel_size=3, strides=3, input_shape=(img_width, img_height, 3)))\n",
    "model.add(Activation('relu'))\n",
    "model.add(MaxPooling2D(pool_size=(2,2)))\n",
    "\n",
    "model.add(Convolution2D(64, kernel_size=3, strides=3, input_shape=(img_width, img_height, 3)))\n",
    "model.add(Activation('relu'))\n",
    "model.add(MaxPooling2D(pool_size=(2,2)))\n",
    "\n",
    "model.add(Flatten())\n",
    "model.add(Dense(64))\n",
    "model.add(Activation('relu'))\n",
    "model.add(Dropout(0.5))\n",
    "model.add(Dense(1))\n",
    "model.add(Activation('sigmoid'))"
   ]
  },
  {
   "cell_type": "code",
   "execution_count": 109,
   "metadata": {
    "collapsed": false
   },
   "outputs": [],
   "source": [
    "model.compile(\n",
    "            loss='binary_crossentropy',\n",
    "            optimizer='rmsprop',\n",
    "            metrics=['accuracy'])"
   ]
  },
  {
   "cell_type": "code",
   "execution_count": 110,
   "metadata": {
    "collapsed": true
   },
   "outputs": [],
   "source": [
    "n_epochs = 30\n",
    "\n",
    "n_train_samples = 2048\n",
    "train_batch_size = 16\n",
    "\n",
    "n_val_samples = 832\n",
    "val_batch_size = 32"
   ]
  },
  {
   "cell_type": "code",
   "execution_count": null,
   "metadata": {
    "collapsed": false
   },
   "outputs": [
    {
     "name": "stdout",
     "output_type": "stream",
     "text": [
      "Epoch 1/30\n",
      "128/128 [==============================] - 51s 398ms/step - loss: 0.6911 - acc: 0.5381 - val_loss: 0.6782 - val_acc: 0.5817\n",
      "Epoch 2/30\n",
      "128/128 [==============================] - 16s 129ms/step - loss: 0.6715 - acc: 0.5884 - val_loss: 0.6465 - val_acc: 0.6202\n",
      "Epoch 3/30\n",
      "128/128 [==============================] - 15s 115ms/step - loss: 0.6407 - acc: 0.6489 - val_loss: 0.6067 - val_acc: 0.6899\n",
      "Epoch 4/30\n",
      "128/128 [==============================] - 15s 117ms/step - loss: 0.6073 - acc: 0.6709 - val_loss: 0.6181 - val_acc: 0.6575\n",
      "Epoch 5/30\n",
      "128/128 [==============================] - 14s 109ms/step - loss: 0.6022 - acc: 0.6948 - val_loss: 0.6023 - val_acc: 0.6839\n",
      "Epoch 6/30\n",
      "128/128 [==============================] - 15s 115ms/step - loss: 0.5597 - acc: 0.7192 - val_loss: 0.5660 - val_acc: 0.7079\n",
      "Epoch 7/30\n",
      "128/128 [==============================] - 14s 107ms/step - loss: 0.5339 - acc: 0.7280 - val_loss: 0.9160 - val_acc: 0.5613\n",
      "Epoch 8/30\n",
      "128/128 [==============================] - 13s 103ms/step - loss: 0.5064 - acc: 0.7598 - val_loss: 0.6546 - val_acc: 0.6611\n",
      "Epoch 9/30\n",
      "128/128 [==============================] - 13s 102ms/step - loss: 0.4858 - acc: 0.7744 - val_loss: 0.5538 - val_acc: 0.7031\n",
      "Epoch 10/30\n",
      "128/128 [==============================] - 14s 106ms/step - loss: 0.4527 - acc: 0.7910 - val_loss: 0.5727 - val_acc: 0.7139\n",
      "Epoch 11/30\n",
      "128/128 [==============================] - 14s 109ms/step - loss: 0.4383 - acc: 0.8047 - val_loss: 0.6075 - val_acc: 0.6971\n",
      "Epoch 12/30\n",
      "128/128 [==============================] - 14s 110ms/step - loss: 0.3967 - acc: 0.8296 - val_loss: 0.5678 - val_acc: 0.7260\n",
      "Epoch 13/30\n",
      "128/128 [==============================] - 14s 111ms/step - loss: 0.3815 - acc: 0.8384 - val_loss: 0.5755 - val_acc: 0.7139\n",
      "Epoch 14/30\n",
      "128/128 [==============================] - 14s 109ms/step - loss: 0.3438 - acc: 0.8550 - val_loss: 0.6580 - val_acc: 0.7103\n",
      "Epoch 15/30\n",
      "128/128 [==============================] - 14s 110ms/step - loss: 0.3325 - acc: 0.8618 - val_loss: 0.5691 - val_acc: 0.7452\n",
      "Epoch 16/30\n",
      " 92/128 [====================>.........] - ETA: 2s - loss: 0.2915 - acc: 0.8764"
     ]
    }
   ],
   "source": [
    "model.fit_generator(\n",
    "    train_generator,\n",
    "    validation_data = validation_generator,\n",
    "    epochs = n_epochs,\n",
    "    steps_per_epoch = n_train_samples / train_batch_size,\n",
    "    validation_steps = n_val_samples / val_batch_size,\n",
    "    shuffle = True)"
   ]
  },
  {
   "cell_type": "code",
   "execution_count": 106,
   "metadata": {
    "collapsed": false
   },
   "outputs": [
    {
     "name": "stdout",
     "output_type": "stream",
     "text": [
      "[0 0 1 1]\n",
      "['cats/cat.1.jpg', 'cats/cat.2.jpg', 'dogs/dog.1.jpg', 'dogs/dog.2.jpg']\n",
      "(150, 150, 3)\n",
      "4\n",
      "1\n"
     ]
    }
   ],
   "source": [
    "print(test_generator.classes)\n",
    "print(test_generator.filenames)\n",
    "print(test_generator.samples)\n",
    "print(test_generator.batch_size)"
   ]
  },
  {
   "cell_type": "code",
   "execution_count": 96,
   "metadata": {
    "collapsed": false
   },
   "outputs": [
    {
     "data": {
      "text/plain": [
       "array([[ 0.68243265],\n",
       "       [ 0.68243265],\n",
       "       [ 0.95954311],\n",
       "       [ 0.2608209 ]], dtype=float32)"
      ]
     },
     "execution_count": 96,
     "metadata": {},
     "output_type": "execute_result"
    }
   ],
   "source": [
    "prediction = model.predict_generator(test_generator, steps = test_generator.samples / test_generator.batch_size)\n",
    "prediction"
   ]
  },
  {
   "cell_type": "code",
   "execution_count": null,
   "metadata": {
    "collapsed": true
   },
   "outputs": [],
   "source": []
  },
  {
   "cell_type": "code",
   "execution_count": null,
   "metadata": {
    "collapsed": true
   },
   "outputs": [],
   "source": []
  }
 ],
 "metadata": {
  "kernelspec": {
   "display_name": "Python 3",
   "language": "python",
   "name": "python3"
  },
  "language_info": {
   "codemirror_mode": {
    "name": "ipython",
    "version": 3
   },
   "file_extension": ".py",
   "mimetype": "text/x-python",
   "name": "python",
   "nbconvert_exporter": "python",
   "pygments_lexer": "ipython3",
   "version": "3.5.4"
  }
 },
 "nbformat": 4,
 "nbformat_minor": 1
}
